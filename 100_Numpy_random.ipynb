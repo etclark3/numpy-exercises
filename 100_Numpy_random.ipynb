{
 "cells": [
  {
   "cell_type": "markdown",
   "id": "a194d42e",
   "metadata": {},
   "source": [
    "# 100 numpy exercises\n",
    "\n",
    "This is a collection of exercises that have been collected in the numpy mailing list, on stack overflow\n",
    "and in the numpy documentation. The goal of this collection is to offer a quick reference for both old\n",
    "and new users but also to provide a set of exercises for those who teach.\n",
    "\n",
    "\n",
    "If you find an error or think you've a better way to solve some of them, feel\n",
    "free to open an issue at <https://github.com/rougier/numpy-100>."
   ]
  },
  {
   "cell_type": "markdown",
   "id": "a7fd49f7",
   "metadata": {},
   "source": [
    "File automatically generated. See the documentation to update questions/answers/hints programmatically."
   ]
  },
  {
   "cell_type": "markdown",
   "id": "b702d5a2",
   "metadata": {},
   "source": [
    "Run the `initialize.py` module, then call a random question with `pick()` an hint towards its solution with\n",
    "`hint(n)` and the answer with `answer(n)`, where n is the number of the picked question."
   ]
  },
  {
   "cell_type": "code",
   "execution_count": 4,
   "id": "da60e1d0",
   "metadata": {},
   "outputs": [],
   "source": [
    "%run initialise.py"
   ]
  },
  {
   "cell_type": "code",
   "execution_count": 5,
   "id": "9fb544fe",
   "metadata": {},
   "outputs": [
    {
     "name": "stdout",
     "output_type": "stream",
     "text": [
      "14. Create a random vector of size 30 and find the mean value (★☆☆)\n"
     ]
    }
   ],
   "source": [
    "pick()"
   ]
  },
  {
   "cell_type": "code",
   "execution_count": 10,
   "id": "73539995",
   "metadata": {},
   "outputs": [
    {
     "name": "stdout",
     "output_type": "stream",
     "text": [
      "hint: mean\n"
     ]
    }
   ],
   "source": [
    "hint(14)"
   ]
  },
  {
   "cell_type": "code",
   "execution_count": 14,
   "id": "8037bf9d",
   "metadata": {},
   "outputs": [
    {
     "name": "stdout",
     "output_type": "stream",
     "text": [
      "Z = np.random.random(30)\n",
      "m = Z.mean()\n",
      "print(m)\n"
     ]
    }
   ],
   "source": [
    "answer(14)"
   ]
  },
  {
   "cell_type": "code",
   "execution_count": 16,
   "id": "708617e7",
   "metadata": {},
   "outputs": [
    {
     "name": "stdout",
     "output_type": "stream",
     "text": [
      "[7.31769773e-01 2.22392483e-03 3.17985481e-01 7.34434354e-01\n",
      " 9.04097300e-01 7.00297930e-01 7.34326271e-01 2.56649276e-01\n",
      " 6.26401532e-01 8.98614316e-01 1.46714421e-01 1.32639480e-02\n",
      " 1.80489104e-02 6.02057418e-02 1.12098956e-04 2.44055675e-01\n",
      " 1.23903575e-01 8.71943074e-01 5.26951330e-01 1.66360723e-01\n",
      " 5.59381247e-02 6.80585676e-01 2.93505763e-01 2.78573715e-01\n",
      " 5.89386311e-01 9.50288160e-01 6.50286096e-02 3.26546194e-01\n",
      " 5.66094967e-01 9.72252719e-01]\n"
     ]
    }
   ],
   "source": [
    "t = np.random.random(30)\n",
    "print(t)"
   ]
  },
  {
   "cell_type": "code",
   "execution_count": 17,
   "id": "112534d9",
   "metadata": {},
   "outputs": [
    {
     "data": {
      "text/plain": [
       "0.4285519964940813"
      ]
     },
     "execution_count": 17,
     "metadata": {},
     "output_type": "execute_result"
    }
   ],
   "source": [
    "t.mean()"
   ]
  },
  {
   "cell_type": "code",
   "execution_count": 18,
   "id": "53980265",
   "metadata": {},
   "outputs": [
    {
     "name": "stdout",
     "output_type": "stream",
     "text": [
      "40. Create a random vector of size 10 and sort it (★★☆)\n"
     ]
    }
   ],
   "source": [
    "pick()"
   ]
  },
  {
   "cell_type": "code",
   "execution_count": 19,
   "id": "30e89d8e",
   "metadata": {},
   "outputs": [
    {
     "data": {
      "text/plain": [
       "array([0.54253531, 0.13481074, 0.45244361, 0.66435388, 0.64777346,\n",
       "       0.94332014, 0.90919116, 0.23449123, 0.60055817, 0.61334171])"
      ]
     },
     "execution_count": 19,
     "metadata": {},
     "output_type": "execute_result"
    }
   ],
   "source": [
    "g = np.random.random(10)\n",
    "g"
   ]
  },
  {
   "cell_type": "code",
   "execution_count": 20,
   "id": "ef7664b2",
   "metadata": {},
   "outputs": [
    {
     "data": {
      "text/plain": [
       "0.5742819419989926"
      ]
     },
     "execution_count": 20,
     "metadata": {},
     "output_type": "execute_result"
    }
   ],
   "source": [
    "g.mean()"
   ]
  },
  {
   "cell_type": "code",
   "execution_count": 21,
   "id": "6786e3a6",
   "metadata": {},
   "outputs": [
    {
     "name": "stdout",
     "output_type": "stream",
     "text": [
      "hint: sort\n"
     ]
    }
   ],
   "source": [
    "hint(40)"
   ]
  },
  {
   "cell_type": "code",
   "execution_count": 25,
   "id": "3ac672a3",
   "metadata": {},
   "outputs": [
    {
     "data": {
      "text/plain": [
       "array([0.13481074, 0.23449123, 0.45244361, 0.54253531, 0.60055817,\n",
       "       0.61334171, 0.64777346, 0.66435388, 0.90919116, 0.94332014])"
      ]
     },
     "execution_count": 25,
     "metadata": {},
     "output_type": "execute_result"
    }
   ],
   "source": [
    "g.sort()\n",
    "g"
   ]
  },
  {
   "cell_type": "code",
   "execution_count": 24,
   "id": "ce31296c",
   "metadata": {},
   "outputs": [
    {
     "name": "stdout",
     "output_type": "stream",
     "text": [
      "Z = np.random.random(10)\n",
      "Z.sort()\n",
      "print(Z)\n"
     ]
    }
   ],
   "source": [
    "answer(40)"
   ]
  },
  {
   "cell_type": "code",
   "execution_count": 28,
   "id": "791b3942",
   "metadata": {},
   "outputs": [
    {
     "name": "stdout",
     "output_type": "stream",
     "text": [
      "3. Create a null vector of size 10 (★☆☆)\n"
     ]
    }
   ],
   "source": [
    "pick()"
   ]
  },
  {
   "cell_type": "code",
   "execution_count": 30,
   "id": "01c6b3d5",
   "metadata": {},
   "outputs": [
    {
     "name": "stdout",
     "output_type": "stream",
     "text": [
      "[0. 0. 0. 0. 0. 0. 0. 0. 0. 0.]\n"
     ]
    }
   ],
   "source": [
    "Z = np.zeros(10)\n",
    "print(Z)"
   ]
  },
  {
   "cell_type": "code",
   "execution_count": 31,
   "id": "b97f203c",
   "metadata": {},
   "outputs": [
    {
     "name": "stdout",
     "output_type": "stream",
     "text": [
      "91. How to create a record array from a regular array? (★★★)\n"
     ]
    }
   ],
   "source": [
    "pick()"
   ]
  },
  {
   "cell_type": "code",
   "execution_count": 32,
   "id": "6b036183",
   "metadata": {},
   "outputs": [
    {
     "name": "stdout",
     "output_type": "stream",
     "text": [
      "hint: np.core.records.fromarrays\n"
     ]
    }
   ],
   "source": [
    "hint(91)"
   ]
  },
  {
   "cell_type": "code",
   "execution_count": 33,
   "id": "f5fe7778",
   "metadata": {},
   "outputs": [
    {
     "name": "stdout",
     "output_type": "stream",
     "text": [
      "Z = np.array([(\"Hello\", 2.5, 3),\n",
      "              (\"World\", 3.6, 2)])\n",
      "R = np.core.records.fromarrays(Z.T,\n",
      "                               names='col1, col2, col3',\n",
      "                               formats = 'S8, f8, i8')\n",
      "print(R)\n"
     ]
    }
   ],
   "source": [
    "answer(91)"
   ]
  },
  {
   "cell_type": "code",
   "execution_count": 34,
   "id": "eb7b4e1b",
   "metadata": {},
   "outputs": [
    {
     "name": "stdout",
     "output_type": "stream",
     "text": [
      "[(b'Hello', 2.5, 3) (b'World', 3.6, 2)]\n"
     ]
    }
   ],
   "source": [
    "Z = np.array([(\"Hello\", 2.5, 3),\n",
    "              (\"World\", 3.6, 2)])\n",
    "R = np.core.records.fromarrays(Z.T,\n",
    "                               names='col1, col2, col3',\n",
    "                               formats = 'S8, f8, i8')\n",
    "print(R)"
   ]
  },
  {
   "cell_type": "code",
   "execution_count": 35,
   "id": "7d57cafa",
   "metadata": {},
   "outputs": [
    {
     "data": {
      "text/plain": [
       "numpy.recarray"
      ]
     },
     "execution_count": 35,
     "metadata": {},
     "output_type": "execute_result"
    }
   ],
   "source": [
    "type(R)"
   ]
  },
  {
   "cell_type": "code",
   "execution_count": 36,
   "id": "8f10d92b",
   "metadata": {},
   "outputs": [
    {
     "name": "stdout",
     "output_type": "stream",
     "text": [
      "62. Considering two arrays with shape (1,3) and (3,1), how to compute their sum using an iterator? (★★☆)\n"
     ]
    }
   ],
   "source": [
    "pick()"
   ]
  },
  {
   "cell_type": "code",
   "execution_count": 37,
   "id": "f0ce35b3",
   "metadata": {},
   "outputs": [
    {
     "name": "stdout",
     "output_type": "stream",
     "text": [
      "hint: np.nditer\n"
     ]
    }
   ],
   "source": [
    "hint(62)"
   ]
  },
  {
   "cell_type": "code",
   "execution_count": 39,
   "id": "ad174bea",
   "metadata": {},
   "outputs": [
    {
     "name": "stdout",
     "output_type": "stream",
     "text": [
      "A = np.arange(3).reshape(3,1)\n",
      "B = np.arange(3).reshape(1,3)\n",
      "it = np.nditer([A,B,None])\n",
      "for x,y,z in it: z[...] = x + y\n",
      "print(it.operands[2])\n"
     ]
    }
   ],
   "source": [
    "answer(62)"
   ]
  },
  {
   "cell_type": "code",
   "execution_count": 46,
   "id": "715fd855",
   "metadata": {},
   "outputs": [
    {
     "name": "stdout",
     "output_type": "stream",
     "text": [
      "[[0 1 2]\n",
      " [1 2 3]\n",
      " [2 3 4]]\n"
     ]
    }
   ],
   "source": [
    "A = np.arange(3).reshape(3,1)\n",
    "B = np.arange(3).reshape(1,3)\n",
    "it = np.nditer([A,B,None])\n",
    "for x,y,z in it: z[...] = x + y\n",
    "print(it.operands[2])"
   ]
  },
  {
   "cell_type": "code",
   "execution_count": 53,
   "id": "d76eb093",
   "metadata": {
    "scrolled": true
   },
   "outputs": [
    {
     "name": "stdout",
     "output_type": "stream",
     "text": [
      "[[0 1 2 3]\n",
      " [1 2 3 4]\n",
      " [2 3 4 5]\n",
      " [3 4 5 6]]\n"
     ]
    }
   ],
   "source": [
    "C = np.arange(4).reshape(4,1)\n",
    "D = np.arange(4).reshape(1,4)\n",
    "it = np.nditer([C,D,None])\n",
    "for x,y,z in it: z[...] = x + y\n",
    "print(it.operands[2])"
   ]
  },
  {
   "cell_type": "code",
   "execution_count": null,
   "id": "37996fa8",
   "metadata": {},
   "outputs": [],
   "source": []
  }
 ],
 "metadata": {
  "kernelspec": {
   "display_name": "Python 3 (ipykernel)",
   "language": "python",
   "name": "python3"
  },
  "language_info": {
   "codemirror_mode": {
    "name": "ipython",
    "version": 3
   },
   "file_extension": ".py",
   "mimetype": "text/x-python",
   "name": "python",
   "nbconvert_exporter": "python",
   "pygments_lexer": "ipython3",
   "version": "3.9.12"
  }
 },
 "nbformat": 4,
 "nbformat_minor": 5
}
